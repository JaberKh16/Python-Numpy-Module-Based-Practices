{
 "cells": [
  {
   "cell_type": "markdown",
   "id": "2538513d",
   "metadata": {},
   "source": [
    "## Working With Statistical Functions With Numpy Module"
   ]
  },
  {
   "cell_type": "markdown",
   "id": "22a6f5b1",
   "metadata": {},
   "source": [
    "### Importing Necessary Modules"
   ]
  },
  {
   "cell_type": "code",
   "execution_count": 2,
   "id": "0349fca9",
   "metadata": {},
   "outputs": [],
   "source": [
    "import numpy as np"
   ]
  },
  {
   "cell_type": "markdown",
   "id": "44cf8c09",
   "metadata": {},
   "source": [
    "### 1. np.mean(np.array, axis, dtype, ...) Function\n",
    "'''\n",
    "The np.mean() function provides the mean/average for the specified numpy array passed as an\n",
    "input in the mean() function. It provides the mean value for the flattend array ignoring the \n",
    "shape of the array and flattend it down to a long 1-D array if no axis is specified.\n",
    "'''"
   ]
  },
  {
   "cell_type": "code",
   "execution_count": 5,
   "id": "df58b98d",
   "metadata": {},
   "outputs": [
    {
     "data": {
      "text/plain": [
       "array([[34.32 , 23.32 , 53.35 , 25.08 , 65.324],\n",
       "       [38.43 , 75.64 , 55.35 , 45.01 , 35.324],\n",
       "       [76.32 , 12.42 , 75.32 , 64.75 , 53.535]])"
      ]
     },
     "execution_count": 5,
     "metadata": {},
     "output_type": "execute_result"
    }
   ],
   "source": [
    "average_monthly_sales_values = list([[34.32, 23.32, 53.35, 25.08, 65.324], [38.43, 75.64, 55.35, 45.01, 35.324],\n",
    "                        [76.32, 12.42, 75.32, 64.75, 53.535]])\n",
    "sales_value = np.array(average_monthly_sales_values)\n",
    "sales_value"
   ]
  },
  {
   "cell_type": "code",
   "execution_count": 14,
   "id": "9665ccc6",
   "metadata": {},
   "outputs": [
    {
     "data": {
      "text/plain": [
       "48.89953333333332"
      ]
     },
     "execution_count": 14,
     "metadata": {},
     "output_type": "execute_result"
    }
   ],
   "source": [
    "np.mean(sales_value) # this will returns the mean of the flattend array"
   ]
  },
  {
   "cell_type": "code",
   "execution_count": 11,
   "id": "f48f58e3",
   "metadata": {},
   "outputs": [
    {
     "data": {
      "text/plain": [
       "49.69"
      ]
     },
     "execution_count": 11,
     "metadata": {},
     "output_type": "execute_result"
    }
   ],
   "source": [
    "np.mean(sales_value[:, 0]) # get the mean of the 1st column"
   ]
  },
  {
   "cell_type": "code",
   "execution_count": 12,
   "id": "5db611ff",
   "metadata": {},
   "outputs": [
    {
     "data": {
      "text/plain": [
       "array([49.69      , 37.12666667, 61.34      , 44.94666667, 51.39433333])"
      ]
     },
     "execution_count": 12,
     "metadata": {},
     "output_type": "execute_result"
    }
   ],
   "source": [
    "np.mean(sales_value, axis=0) # get the mean values for all the columns"
   ]
  },
  {
   "cell_type": "code",
   "execution_count": 13,
   "id": "5d42a2d7",
   "metadata": {},
   "outputs": [
    {
     "data": {
      "text/plain": [
       "array([40.2788, 49.9508, 56.469 ])"
      ]
     },
     "execution_count": 13,
     "metadata": {},
     "output_type": "execute_result"
    }
   ],
   "source": [
    "np.mean(sales_value, axis=1) # get the mean values for all the rows"
   ]
  },
  {
   "cell_type": "markdown",
   "id": "49d59aa0",
   "metadata": {},
   "source": [
    "### 2. np.min(), np.amin(), np.max(), np.amax(), np.minimum() Function"
   ]
  },
  {
   "cell_type": "markdown",
   "id": "df16ebf3",
   "metadata": {},
   "source": [
    "#### 2.1 np.min() Function\n",
    "'''\n",
    "Numpy Function np.min() finds the lowest value of an array along a given axis. If no axis is specified\n",
    "(default is axis=None) then the function will work on the flattend array.\n",
    "<br>\n",
    "Numpy Function np.amin() is specially designed for array based operation which performs the similar \n",
    "functionality of finding the minimum value of an given array.\n",
    "'''"
   ]
  },
  {
   "cell_type": "code",
   "execution_count": 22,
   "id": "904c0479",
   "metadata": {},
   "outputs": [
    {
     "data": {
      "text/plain": [
       "array([[34.32 , 23.32 , 53.35 , 25.08 , 65.324],\n",
       "       [38.43 , 75.64 , 55.35 , 45.01 , 35.324],\n",
       "       [76.32 , 12.42 , 75.32 , 64.75 , 53.535]])"
      ]
     },
     "execution_count": 22,
     "metadata": {},
     "output_type": "execute_result"
    }
   ],
   "source": [
    "sales_value"
   ]
  },
  {
   "cell_type": "code",
   "execution_count": 23,
   "id": "0c55f782",
   "metadata": {},
   "outputs": [
    {
     "data": {
      "text/plain": [
       "12.42"
      ]
     },
     "execution_count": 23,
     "metadata": {},
     "output_type": "execute_result"
    }
   ],
   "source": [
    "np.min(sales_value) # gets the minimum value/item from the flattend array"
   ]
  },
  {
   "cell_type": "code",
   "execution_count": 24,
   "id": "f1921c0d",
   "metadata": {},
   "outputs": [
    {
     "data": {
      "text/plain": [
       "53.35"
      ]
     },
     "execution_count": 24,
     "metadata": {},
     "output_type": "execute_result"
    }
   ],
   "source": [
    "np.min(sales_value[:, 2]) # gets the minimum value/item from the 2nd column"
   ]
  },
  {
   "cell_type": "code",
   "execution_count": 27,
   "id": "ab01b352",
   "metadata": {},
   "outputs": [
    {
     "data": {
      "text/plain": [
       "12.42"
      ]
     },
     "execution_count": 27,
     "metadata": {},
     "output_type": "execute_result"
    }
   ],
   "source": [
    "np.amin(sales_value) # gets the minimum value/item from the flattend array"
   ]
  },
  {
   "cell_type": "code",
   "execution_count": 28,
   "id": "8f52b44e",
   "metadata": {},
   "outputs": [
    {
     "data": {
      "text/plain": [
       "53.35"
      ]
     },
     "execution_count": 28,
     "metadata": {},
     "output_type": "execute_result"
    }
   ],
   "source": [
    "np.amin(sales_value[:, 2]) # gets the minimum value/item from the 2nd column"
   ]
  },
  {
   "cell_type": "markdown",
   "id": "a16ebcc5",
   "metadata": {},
   "source": [
    "#### 2.2 np.max(), np.amax() Function\n",
    "'''\n",
    "Numpy Function np.max() finds the maximum value of an array along a given axis. If no axis is specified\n",
    "(default is axis=None) then the function will work on the flattend array.\n",
    "<br>\n",
    "Numpy Function np.amax() is specially designed for array based operation which performs the similar \n",
    "functionality of finding the maximum value of an given array.\n",
    "'''"
   ]
  },
  {
   "cell_type": "code",
   "execution_count": 19,
   "id": "5ea92eda",
   "metadata": {},
   "outputs": [
    {
     "data": {
      "text/plain": [
       "array([[34.32 , 23.32 , 53.35 , 25.08 , 65.324],\n",
       "       [38.43 , 75.64 , 55.35 , 45.01 , 35.324],\n",
       "       [76.32 , 12.42 , 75.32 , 64.75 , 53.535]])"
      ]
     },
     "execution_count": 19,
     "metadata": {},
     "output_type": "execute_result"
    }
   ],
   "source": [
    "sales_value"
   ]
  },
  {
   "cell_type": "code",
   "execution_count": 25,
   "id": "b058aaa3",
   "metadata": {},
   "outputs": [
    {
     "data": {
      "text/plain": [
       "76.32"
      ]
     },
     "execution_count": 25,
     "metadata": {},
     "output_type": "execute_result"
    }
   ],
   "source": [
    "np.max(sales_value) # gets the maximum value/item from the flattend array"
   ]
  },
  {
   "cell_type": "code",
   "execution_count": 29,
   "id": "b9ba7229",
   "metadata": {},
   "outputs": [
    {
     "data": {
      "text/plain": [
       "75.32"
      ]
     },
     "execution_count": 29,
     "metadata": {},
     "output_type": "execute_result"
    }
   ],
   "source": [
    "np.max(sales_value[:, 2]) # gets the maximum value/item from the 2nd column"
   ]
  },
  {
   "cell_type": "code",
   "execution_count": 30,
   "id": "7deb6866",
   "metadata": {},
   "outputs": [
    {
     "data": {
      "text/plain": [
       "76.32"
      ]
     },
     "execution_count": 30,
     "metadata": {},
     "output_type": "execute_result"
    }
   ],
   "source": [
    "np.amax(sales_value) # gets the maximum value/item from the flattend column"
   ]
  },
  {
   "cell_type": "code",
   "execution_count": 31,
   "id": "d25260c7",
   "metadata": {},
   "outputs": [
    {
     "data": {
      "text/plain": [
       "75.32"
      ]
     },
     "execution_count": 31,
     "metadata": {},
     "output_type": "execute_result"
    }
   ],
   "source": [
    "np.amax(sales_value[:, 2]) # gets the maximum value/item from the 2nd column"
   ]
  },
  {
   "cell_type": "markdown",
   "id": "834d8e08",
   "metadata": {},
   "source": [
    "#### 2.3 np.minimum() Function\n",
    "'''\n",
    "Numpy Function np.minimum() requires two input arrays and generates an array which holds the \n",
    "elementwise minimum values from the given 2 input arrays. It compares the values at the same position\n",
    "in each of the arrays before taking the lowest one.\n",
    "'''"
   ]
  },
  {
   "cell_type": "code",
   "execution_count": 32,
   "id": "24052721",
   "metadata": {},
   "outputs": [
    {
     "data": {
      "text/plain": [
       "array([34.32 , 12.42 , 53.35 , 25.08 , 53.535])"
      ]
     },
     "execution_count": 32,
     "metadata": {},
     "output_type": "execute_result"
    }
   ],
   "source": [
    "np.minimum(sales_value[0], sales_value[2]) # gets the minimum array from the 2 inputted array "
   ]
  },
  {
   "cell_type": "markdown",
   "id": "42cdac85",
   "metadata": {},
   "source": [
    "#### 2.4 np.maximum() Function\n",
    "'''\n",
    "Numpy Function np.maximum() requires two input arrays and generates an array which holds the \n",
    "elementwise maximum values from the given 2 input arrays. It compares the values at the same position\n",
    "in each of the arrays before taking the highest one.\n",
    "'''"
   ]
  },
  {
   "cell_type": "code",
   "execution_count": 33,
   "id": "6c2635a5",
   "metadata": {},
   "outputs": [
    {
     "data": {
      "text/plain": [
       "array([76.32 , 23.32 , 75.32 , 64.75 , 65.324])"
      ]
     },
     "execution_count": 33,
     "metadata": {},
     "output_type": "execute_result"
    }
   ],
   "source": [
    "np.maximum(sales_value[0], sales_value[2]) # gets the maximum array from the 2 inputted array"
   ]
  },
  {
   "cell_type": "code",
   "execution_count": null,
   "id": "59c23626",
   "metadata": {},
   "outputs": [],
   "source": []
  },
  {
   "cell_type": "code",
   "execution_count": null,
   "id": "7e632cc4",
   "metadata": {},
   "outputs": [],
   "source": []
  },
  {
   "cell_type": "code",
   "execution_count": null,
   "id": "5519cdf5",
   "metadata": {},
   "outputs": [],
   "source": []
  },
  {
   "cell_type": "code",
   "execution_count": null,
   "id": "05e39ce6",
   "metadata": {},
   "outputs": [],
   "source": []
  },
  {
   "cell_type": "code",
   "execution_count": null,
   "id": "a7e4ba47",
   "metadata": {},
   "outputs": [],
   "source": []
  }
 ],
 "metadata": {
  "kernelspec": {
   "display_name": "Python 3",
   "language": "python",
   "name": "python3"
  },
  "language_info": {
   "codemirror_mode": {
    "name": "ipython",
    "version": 3
   },
   "file_extension": ".py",
   "mimetype": "text/x-python",
   "name": "python",
   "nbconvert_exporter": "python",
   "pygments_lexer": "ipython3",
   "version": "3.8.5"
  }
 },
 "nbformat": 4,
 "nbformat_minor": 5
}
